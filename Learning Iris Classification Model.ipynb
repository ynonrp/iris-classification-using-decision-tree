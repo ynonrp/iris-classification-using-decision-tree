{
 "cells": [
  {
   "cell_type": "markdown",
   "metadata": {},
   "source": [
    "# Classification Iris Using Decision Tree "
   ]
  },
  {
   "cell_type": "markdown",
   "metadata": {},
   "source": [
    "## Import Dataset"
   ]
  },
  {
   "cell_type": "code",
   "execution_count": 2,
   "metadata": {},
   "outputs": [
    {
     "name": "stdout",
     "output_type": "stream",
     "text": [
      "     sepal.length  sepal.width  petal.length  petal.width    variety\n",
      "0             5.1          3.5           1.4          0.2     Setosa\n",
      "1             4.9          3.0           1.4          0.2     Setosa\n",
      "2             4.7          3.2           1.3          0.2     Setosa\n",
      "3             4.6          3.1           1.5          0.2     Setosa\n",
      "4             5.0          3.6           1.4          0.2     Setosa\n",
      "..            ...          ...           ...          ...        ...\n",
      "145           6.7          3.0           5.2          2.3  Virginica\n",
      "146           6.3          2.5           5.0          1.9  Virginica\n",
      "147           6.5          3.0           5.2          2.0  Virginica\n",
      "148           6.2          3.4           5.4          2.3  Virginica\n",
      "149           5.9          3.0           5.1          1.8  Virginica\n",
      "\n",
      "[150 rows x 5 columns]\n"
     ]
    }
   ],
   "source": [
    "import pandas as pd\n",
    "\n",
    "Data_Iris = pd.read_csv(\"Iris Dataset\\iris.csv\")\n",
    "\n",
    "print(Data_Iris)"
   ]
  },
  {
   "cell_type": "markdown",
   "metadata": {},
   "source": [
    "## Split dataset into 2:\n",
    "x = data and y = category"
   ]
  },
  {
   "cell_type": "code",
   "execution_count": 3,
   "metadata": {},
   "outputs": [
    {
     "name": "stdout",
     "output_type": "stream",
     "text": [
      "x contains of: \n",
      "     sepal.length  sepal.width  petal.length  petal.width\n",
      "0             5.1          3.5           1.4          0.2\n",
      "1             4.9          3.0           1.4          0.2\n",
      "2             4.7          3.2           1.3          0.2\n",
      "3             4.6          3.1           1.5          0.2\n",
      "4             5.0          3.6           1.4          0.2\n",
      "..            ...          ...           ...          ...\n",
      "145           6.7          3.0           5.2          2.3\n",
      "146           6.3          2.5           5.0          1.9\n",
      "147           6.5          3.0           5.2          2.0\n",
      "148           6.2          3.4           5.4          2.3\n",
      "149           5.9          3.0           5.1          1.8\n",
      "\n",
      "[150 rows x 4 columns]\n",
      "y contains of: \n",
      "       variety\n",
      "0       Setosa\n",
      "1       Setosa\n",
      "2       Setosa\n",
      "3       Setosa\n",
      "4       Setosa\n",
      "..         ...\n",
      "145  Virginica\n",
      "146  Virginica\n",
      "147  Virginica\n",
      "148  Virginica\n",
      "149  Virginica\n",
      "\n",
      "[150 rows x 1 columns]\n"
     ]
    }
   ],
   "source": [
    "x = Data_Iris.iloc[:, :4]\n",
    "y = Data_Iris.iloc[:, 4:]\n",
    "\n",
    "print(\"x contains of: \")\n",
    "print(x)\n",
    "print(\"y contains of: \")\n",
    "print(y)"
   ]
  },
  {
   "cell_type": "markdown",
   "metadata": {},
   "source": [
    "## Split Dataset for Train and Test\n",
    "120 data for train and 30 data for test"
   ]
  },
  {
   "cell_type": "code",
   "execution_count": 4,
   "metadata": {},
   "outputs": [
    {
     "name": "stdout",
     "output_type": "stream",
     "text": [
      "x for test contains of: \n",
      "     sepal.length  sepal.width  petal.length  petal.width\n",
      "6             4.6          3.4           1.4          0.3\n",
      "3             4.6          3.1           1.5          0.2\n",
      "113           5.7          2.5           5.0          2.0\n",
      "12            4.8          3.0           1.4          0.1\n",
      "24            4.8          3.4           1.9          0.2\n",
      "129           7.2          3.0           5.8          1.6\n",
      "25            5.0          3.0           1.6          0.2\n",
      "108           6.7          2.5           5.8          1.8\n",
      "128           6.4          2.8           5.6          2.1\n",
      "45            4.8          3.0           1.4          0.3\n",
      "48            5.3          3.7           1.5          0.2\n",
      "42            4.4          3.2           1.3          0.2\n",
      "35            5.0          3.2           1.2          0.2\n",
      "5             5.4          3.9           1.7          0.4\n",
      "85            6.0          3.4           4.5          1.6\n",
      "54            6.5          2.8           4.6          1.5\n",
      "41            4.5          2.3           1.3          0.3\n",
      "96            5.7          2.9           4.2          1.3\n",
      "144           6.7          3.3           5.7          2.5\n",
      "89            5.5          2.5           4.0          1.3\n",
      "77            6.7          3.0           5.0          1.7\n",
      "74            6.4          2.9           4.3          1.3\n",
      "115           6.4          3.2           5.3          2.3\n",
      "94            5.6          2.7           4.2          1.3\n",
      "87            6.3          2.3           4.4          1.3\n",
      "29            4.7          3.2           1.6          0.2\n",
      "2             4.7          3.2           1.3          0.2\n",
      "127           6.1          3.0           4.9          1.8\n",
      "44            5.1          3.8           1.9          0.4\n",
      "125           7.2          3.2           6.0          1.8\n",
      "y for test contains of: \n",
      "        variety\n",
      "6        Setosa\n",
      "3        Setosa\n",
      "113   Virginica\n",
      "12       Setosa\n",
      "24       Setosa\n",
      "129   Virginica\n",
      "25       Setosa\n",
      "108   Virginica\n",
      "128   Virginica\n",
      "45       Setosa\n",
      "48       Setosa\n",
      "42       Setosa\n",
      "35       Setosa\n",
      "5        Setosa\n",
      "85   Versicolor\n",
      "54   Versicolor\n",
      "41       Setosa\n",
      "96   Versicolor\n",
      "144   Virginica\n",
      "89   Versicolor\n",
      "77   Versicolor\n",
      "74   Versicolor\n",
      "115   Virginica\n",
      "94   Versicolor\n",
      "87   Versicolor\n",
      "29       Setosa\n",
      "2        Setosa\n",
      "127   Virginica\n",
      "44       Setosa\n",
      "125   Virginica\n"
     ]
    }
   ],
   "source": [
    "from sklearn.model_selection import train_test_split\n",
    "\n",
    "x_train, x_test, y_train, y_test = train_test_split(x, y, test_size=0.2, random_state=2)\n",
    "\n",
    "print(\"x for test contains of: \")\n",
    "print(x_test)\n",
    "print(\"y for test contains of: \")\n",
    "print(y_test)"
   ]
  },
  {
   "cell_type": "code",
   "execution_count": null,
   "metadata": {},
   "outputs": [],
   "source": [
    "print(\"x for train contains of: \")\n",
    "print(x_train)\n",
    "print(\"y for train contains of: \")\n",
    "print(y_train)"
   ]
  },
  {
   "cell_type": "markdown",
   "metadata": {},
   "source": [
    "## Train Model with Decision Tree Method"
   ]
  },
  {
   "cell_type": "code",
   "execution_count": null,
   "metadata": {},
   "outputs": [],
   "source": [
    "from sklearn.tree import DecisionTreeClassifier\n",
    "\n",
    "model = DecisionTreeClassifier()\n",
    "model.fit(x_train, y_train)"
   ]
  },
  {
   "cell_type": "markdown",
   "metadata": {},
   "source": [
    "## Visualization Model of Decision Tree"
   ]
  },
  {
   "cell_type": "code",
   "execution_count": null,
   "metadata": {},
   "outputs": [],
   "source": [
    "import matplotlib.pyplot as plt\n",
    "from sklearn import tree\n",
    "\n",
    "plt.rcParams['figure.dpi'] = 150\n",
    "tree.plot_tree(model)\n",
    "plt.show"
   ]
  },
  {
   "cell_type": "markdown",
   "metadata": {},
   "source": [
    "## Evaluation Model\n",
    "Evaluating model using test dataset"
   ]
  },
  {
   "cell_type": "code",
   "execution_count": null,
   "metadata": {},
   "outputs": [],
   "source": [
    "from sklearn.metrics import classification_report, accuracy_score\n",
    "\n",
    "predict_result = model.predict(x_test)\n",
    "\n",
    "\n",
    "print(\"Accuracy Score of Model: \", accuracy_score(y_test, predict_result))\n",
    "print(\"Full Report : \")\n",
    "print(classification_report(y_test, predict_result))"
   ]
  },
  {
   "cell_type": "markdown",
   "metadata": {},
   "source": [
    "## Deploy Model\n",
    "Deploy model for use in application"
   ]
  },
  {
   "cell_type": "code",
   "execution_count": null,
   "metadata": {},
   "outputs": [],
   "source": [
    "import joblib\n",
    "\n",
    "joblib.dump(model, 'model.pkl')"
   ]
  }
 ],
 "metadata": {
  "kernelspec": {
   "display_name": "Python 3",
   "language": "python",
   "name": "python3"
  },
  "language_info": {
   "codemirror_mode": {
    "name": "ipython",
    "version": 3
   },
   "file_extension": ".py",
   "mimetype": "text/x-python",
   "name": "python",
   "nbconvert_exporter": "python",
   "pygments_lexer": "ipython3",
   "version": "3.11.5"
  }
 },
 "nbformat": 4,
 "nbformat_minor": 2
}
