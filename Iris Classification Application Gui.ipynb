{
 "cells": [
  {
   "cell_type": "markdown",
   "metadata": {},
   "source": [
    "## Create Window of Application"
   ]
  },
  {
   "cell_type": "code",
   "execution_count": 7,
   "metadata": {},
   "outputs": [],
   "source": [
    "import tkinter as tk\n",
    "\n",
    "window = tk.Tk()\n"
   ]
  },
  {
   "cell_type": "markdown",
   "metadata": {},
   "source": [
    "## Create Title"
   ]
  },
  {
   "cell_type": "code",
   "execution_count": null,
   "metadata": {},
   "outputs": [
    {
     "data": {
      "text/plain": [
       "{'activebackground': ('activebackground',\n",
       "  'activeBackground',\n",
       "  'Foreground',\n",
       "  <string object: 'SystemButtonFace'>,\n",
       "  'SystemButtonFace'),\n",
       " 'activeforeground': ('activeforeground',\n",
       "  'activeForeground',\n",
       "  'Background',\n",
       "  <string object: 'SystemButtonText'>,\n",
       "  'SystemButtonText'),\n",
       " 'anchor': ('anchor', 'anchor', 'Anchor', <string object: 'center'>, 'center'),\n",
       " 'background': ('background',\n",
       "  'background',\n",
       "  'Background',\n",
       "  <string object: 'SystemButtonFace'>,\n",
       "  'SystemButtonFace'),\n",
       " 'bd': ('bd', '-borderwidth'),\n",
       " 'bg': ('bg', '-background'),\n",
       " 'bitmap': ('bitmap', 'bitmap', 'Bitmap', '', ''),\n",
       " 'borderwidth': ('borderwidth',\n",
       "  'borderWidth',\n",
       "  'BorderWidth',\n",
       "  <string object: '2'>,\n",
       "  <string object: '2'>),\n",
       " 'compound': ('compound',\n",
       "  'compound',\n",
       "  'Compound',\n",
       "  <string object: 'none'>,\n",
       "  'none'),\n",
       " 'cursor': ('cursor', 'cursor', 'Cursor', '', ''),\n",
       " 'disabledforeground': ('disabledforeground',\n",
       "  'disabledForeground',\n",
       "  'DisabledForeground',\n",
       "  <string object: 'SystemDisabledText'>,\n",
       "  'SystemDisabledText'),\n",
       " 'fg': ('fg', '-foreground'),\n",
       " 'font': ('font',\n",
       "  'font',\n",
       "  'Font',\n",
       "  <string object: 'TkDefaultFont'>,\n",
       "  'TkDefaultFont'),\n",
       " 'foreground': ('foreground',\n",
       "  'foreground',\n",
       "  'Foreground',\n",
       "  <string object: 'SystemButtonText'>,\n",
       "  'SystemButtonText'),\n",
       " 'height': ('height', 'height', 'Height', 0, 0),\n",
       " 'highlightbackground': ('highlightbackground',\n",
       "  'highlightBackground',\n",
       "  'HighlightBackground',\n",
       "  <string object: 'SystemButtonFace'>,\n",
       "  'SystemButtonFace'),\n",
       " 'highlightcolor': ('highlightcolor',\n",
       "  'highlightColor',\n",
       "  'HighlightColor',\n",
       "  <string object: 'SystemWindowFrame'>,\n",
       "  'SystemWindowFrame'),\n",
       " 'highlightthickness': ('highlightthickness',\n",
       "  'highlightThickness',\n",
       "  'HighlightThickness',\n",
       "  <string object: '0'>,\n",
       "  <string object: '0'>),\n",
       " 'image': ('image', 'image', 'Image', '', ''),\n",
       " 'justify': ('justify',\n",
       "  'justify',\n",
       "  'Justify',\n",
       "  <string object: 'center'>,\n",
       "  'center'),\n",
       " 'padx': ('padx', 'padX', 'Pad', <string object: '1'>, <string object: '1'>),\n",
       " 'pady': ('pady', 'padY', 'Pad', <string object: '1'>, <string object: '1'>),\n",
       " 'relief': ('relief', 'relief', 'Relief', <string object: 'flat'>, 'flat'),\n",
       " 'state': ('state', 'state', 'State', <string object: 'normal'>, 'normal'),\n",
       " 'takefocus': ('takefocus', 'takeFocus', 'TakeFocus', '0', '0'),\n",
       " 'text': ('text', 'text', 'Text', '', 'Iris Classification'),\n",
       " 'textvariable': ('textvariable', 'textVariable', 'Variable', '', ''),\n",
       " 'underline': ('underline', 'underline', 'Underline', -1, -1),\n",
       " 'width': ('width', 'width', 'Width', 0, 0),\n",
       " 'wraplength': ('wraplength',\n",
       "  'wrapLength',\n",
       "  'WrapLength',\n",
       "  <string object: '0'>,\n",
       "  <string object: '0'>)}"
      ]
     },
     "execution_count": 8,
     "metadata": {},
     "output_type": "execute_result"
    }
   ],
   "source": [
    "title = tk.Label(text=\"Iris Classification\")"
   ]
  },
  {
   "cell_type": "markdown",
   "metadata": {},
   "source": [
    "## Create Application Looping"
   ]
  },
  {
   "cell_type": "code",
   "execution_count": 9,
   "metadata": {},
   "outputs": [],
   "source": [
    "window.mainloop()"
   ]
  }
 ],
 "metadata": {
  "kernelspec": {
   "display_name": "Python 3",
   "language": "python",
   "name": "python3"
  },
  "language_info": {
   "codemirror_mode": {
    "name": "ipython",
    "version": 3
   },
   "file_extension": ".py",
   "mimetype": "text/x-python",
   "name": "python",
   "nbconvert_exporter": "python",
   "pygments_lexer": "ipython3",
   "version": "3.11.5"
  }
 },
 "nbformat": 4,
 "nbformat_minor": 2
}
